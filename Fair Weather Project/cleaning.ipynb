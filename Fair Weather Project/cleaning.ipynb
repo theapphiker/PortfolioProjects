{
 "cells": [
  {
   "cell_type": "code",
   "execution_count": 25,
   "id": "fe335ae0",
   "metadata": {},
   "outputs": [],
   "source": [
    "#import the necessary libraries\n",
    "import pandas as pd"
   ]
  },
  {
   "cell_type": "code",
   "execution_count": 26,
   "id": "06dc946f",
   "metadata": {},
   "outputs": [],
   "source": [
    "# import CSV with dates between 1960 and 1980\n",
    "old_weather1=pd.read_csv(r'C:\\Users\\syast\\OneDrive\\Documents\\Data Analysis Practice\\Fair Weather Project\\data\\bloom_weather_1960_1980.csv')"
   ]
  },
  {
   "cell_type": "code",
   "execution_count": 37,
   "id": "9df78bea",
   "metadata": {},
   "outputs": [],
   "source": [
    "#drop all rows that contain NaN\n",
    "old_weather1=old_weather1.dropna()"
   ]
  },
  {
   "cell_type": "code",
   "execution_count": 38,
   "id": "feca9ed6",
   "metadata": {},
   "outputs": [],
   "source": [
    "old_weather1['DATE']=pd.to_datetime(old_weather2['DATE'])"
   ]
  },
  {
   "cell_type": "code",
   "execution_count": 39,
   "id": "595dafd6",
   "metadata": {},
   "outputs": [],
   "source": [
    "# select only the dates between September 22 and October 3 - approximately the dates of the fair each year\n",
    "old_weather1=old_weather1[((old_weather1['DATE'].dt.month==9) & (old_weather1['DATE'].dt.day>=22)) | ((old_weather1['DATE'].dt.month==10) & (old_weather1['DATE'].dt.day<=3))]"
   ]
  },
  {
   "cell_type": "code",
   "execution_count": 40,
   "id": "aa00f535",
   "metadata": {},
   "outputs": [],
   "source": [
    "# select only the 'MILLVILLE 2 SW, PA US' Station because it is the only Station that recorded data for every day\n",
    "old_weather1=old_weather1[old_weather1['NAME']=='MILLVILLE 2 SW, PA US']"
   ]
  },
  {
   "cell_type": "code",
   "execution_count": 41,
   "id": "5b198d69",
   "metadata": {},
   "outputs": [],
   "source": [
    "# output dataframe to new csv\n",
    "old_weather1.to_csv(r'C:\\Users\\syast\\OneDrive\\Documents\\Data Analysis Practice\\Fair Weather Project\\old_weather_cleaned.csv')"
   ]
  },
  {
   "cell_type": "code",
   "execution_count": 42,
   "id": "cc3cee72",
   "metadata": {},
   "outputs": [],
   "source": [
    "# import CSV with dates between 2002 and 2022\n",
    "new_weather1=pd.read_csv(r'C:\\Users\\syast\\OneDrive\\Documents\\Data Analysis Practice\\Fair Weather Project\\data\\bloom_weather_2002_2022.csv')"
   ]
  },
  {
   "cell_type": "code",
   "execution_count": 43,
   "id": "adf242f7",
   "metadata": {},
   "outputs": [],
   "source": [
    "# drop any rows that contain NaN\n",
    "new_weather1=new_weather1.dropna()"
   ]
  },
  {
   "cell_type": "code",
   "execution_count": 44,
   "id": "735d8c20",
   "metadata": {},
   "outputs": [],
   "source": [
    "# convert DATE column to datetime\n",
    "new_weather1['DATE']=pd.to_datetime(new_weather1['DATE'])"
   ]
  },
  {
   "cell_type": "code",
   "execution_count": 45,
   "id": "dd263b8a",
   "metadata": {},
   "outputs": [],
   "source": [
    "# select only the dates between September 22 and October 3 - approximately the dates of the fair each year\n",
    "new_weather1=new_weather1[((new_weather1['DATE'].dt.month==9) & (new_weather1['DATE'].dt.day>=22)) | ((new_weather1['DATE'].dt.month==10) & (new_weather1['DATE'].dt.day<=3))]"
   ]
  },
  {
   "cell_type": "code",
   "execution_count": 46,
   "id": "854e3e50",
   "metadata": {},
   "outputs": [],
   "source": [
    "# output dataframe to new csv\n",
    "new_weather1.to_csv(r'C:\\Users\\syast\\OneDrive\\Documents\\Data Analysis Practice\\Fair Weather Project\\new_weather_cleaned.csv')"
   ]
  },
  {
   "cell_type": "code",
   "execution_count": null,
   "id": "6c58edc1",
   "metadata": {},
   "outputs": [],
   "source": []
  }
 ],
 "metadata": {
  "kernelspec": {
   "display_name": "Python 3 (ipykernel)",
   "language": "python",
   "name": "python3"
  },
  "language_info": {
   "codemirror_mode": {
    "name": "ipython",
    "version": 3
   },
   "file_extension": ".py",
   "mimetype": "text/x-python",
   "name": "python",
   "nbconvert_exporter": "python",
   "pygments_lexer": "ipython3",
   "version": "3.10.9"
  }
 },
 "nbformat": 4,
 "nbformat_minor": 5
}
