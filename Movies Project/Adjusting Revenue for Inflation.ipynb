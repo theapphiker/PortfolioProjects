{
 "cells": [
  {
   "cell_type": "code",
   "execution_count": 6,
   "id": "dd3dc54e",
   "metadata": {},
   "outputs": [],
   "source": [
    "import pandas as pd"
   ]
  },
  {
   "cell_type": "code",
   "execution_count": 7,
   "id": "17540b62",
   "metadata": {},
   "outputs": [],
   "source": [
    "# import movies data\n",
    "df1=pd.read_csv('data.csv')"
   ]
  },
  {
   "cell_type": "code",
   "execution_count": 8,
   "id": "e6e16667",
   "metadata": {},
   "outputs": [],
   "source": [
    "df1['release_date']=pd.to_datetime(df1['release_date'],errors='coerce')"
   ]
  },
  {
   "cell_type": "code",
   "execution_count": 9,
   "id": "61ff3eb4",
   "metadata": {},
   "outputs": [],
   "source": [
    "df1=df1[df1['release_date'].notnull()]"
   ]
  },
  {
   "cell_type": "code",
   "execution_count": 10,
   "id": "fed9b48a",
   "metadata": {},
   "outputs": [],
   "source": [
    "# import csv file with monthly CPIs\n",
    "df2=pd.read_csv('inflation_v2.csv')"
   ]
  },
  {
   "cell_type": "code",
   "execution_count": 11,
   "id": "764b0623",
   "metadata": {},
   "outputs": [],
   "source": [
    "df2.set_index('Year',inplace=True)"
   ]
  },
  {
   "cell_type": "code",
   "execution_count": 12,
   "id": "9626ccbb",
   "metadata": {},
   "outputs": [],
   "source": [
    "lst=[df2.loc[t.year][str(t.month)] for t in df1['release_date']]"
   ]
  },
  {
   "cell_type": "code",
   "execution_count": 13,
   "id": "70d27e2e",
   "metadata": {},
   "outputs": [],
   "source": [
    "df1['cpi']=lst"
   ]
  },
  {
   "cell_type": "code",
   "execution_count": 14,
   "id": "b4f53327",
   "metadata": {},
   "outputs": [],
   "source": [
    "# CPI for All Urban Consumers as of August 2023\n",
    "cpi_2023=307.026"
   ]
  },
  {
   "cell_type": "code",
   "execution_count": 15,
   "id": "ad15ebbb",
   "metadata": {},
   "outputs": [],
   "source": [
    "df1['revenue_inflation_adjusted']=df1['revenue']*((cpi_2023)/df1['cpi'])"
   ]
  },
  {
   "cell_type": "code",
   "execution_count": 16,
   "id": "b03a4489",
   "metadata": {},
   "outputs": [],
   "source": [
    "df1.to_csv('data_v2.csv', index=False, float_format='%.10f')"
   ]
  },
  {
   "cell_type": "code",
   "execution_count": null,
   "id": "28ee44d0",
   "metadata": {},
   "outputs": [],
   "source": []
  }
 ],
 "metadata": {
  "kernelspec": {
   "display_name": "Python 3 (ipykernel)",
   "language": "python",
   "name": "python3"
  },
  "language_info": {
   "codemirror_mode": {
    "name": "ipython",
    "version": 3
   },
   "file_extension": ".py",
   "mimetype": "text/x-python",
   "name": "python",
   "nbconvert_exporter": "python",
   "pygments_lexer": "ipython3",
   "version": "3.10.9"
  }
 },
 "nbformat": 4,
 "nbformat_minor": 5
}
