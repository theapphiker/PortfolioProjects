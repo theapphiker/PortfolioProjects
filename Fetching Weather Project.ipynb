{
 "cells": [
  {
   "cell_type": "code",
   "execution_count": null,
   "id": "5c4db1b6",
   "metadata": {},
   "outputs": [],
   "source": [
    "# Take the hiking weather data and analyze it"
   ]
  },
  {
   "cell_type": "code",
   "execution_count": null,
   "id": "aca9c9c4",
   "metadata": {},
   "outputs": [],
   "source": [
    "# Import relevant libaries\n",
    "import json, requests, regex, csv, pandas as pd"
   ]
  },
  {
   "cell_type": "code",
   "execution_count": null,
   "id": "98361133",
   "metadata": {},
   "outputs": [],
   "source": [
    "# Allow users to enter their own hikes and coordinates.\n",
    "coord_dct={}\n",
    "while True:\n",
    "    print(\"Please enter the name of the hike.\")\n",
    "    hike_name=input()\n",
    "    while True:\n",
    "        print(\"Please enter the latitude and longitude coordinates of the hike.\\nYou can use https://www.google.com/maps to find the coordinates.\")\n",
    "        hike_coord=input()\n",
    "        if regex.search(r'^\\d{1,2}.\\d{4,},\\s*-{,1}\\d{1,3}.\\d{4,}$',hike_coord):\n",
    "            break\n",
    "    coord_dct[hike_name]=hike_coord.split(\",\")[0]+\",\"+hike_coord.split(\",\")[1].replace(\" \",\"\")\n",
    "    while True:\n",
    "        print(\"Do you want to enter another hike? Please enter \\\"yes\\\" or \\\"no\\\".\")\n",
    "        answer=input()\n",
    "        if answer in [\"yes\",\"no\"]:\n",
    "            break\n",
    "    if answer==\"no\":\n",
    "        break"
   ]
  },
  {
   "cell_type": "code",
   "execution_count": null,
   "id": "6df16684",
   "metadata": {},
   "outputs": [],
   "source": [
    "# Download the forecast links from the National Weather Service's API using the coord_lst\n",
    "fc_links={}\n",
    "for h in coord_dct:\n",
    "    try:\n",
    "        response=requests.get('https://api.weather.gov/points/'+coord_dct[h])\n",
    "        response.raise_for_status()\n",
    "        data=json.loads(response.text)\n",
    "        fc_links[h]=data['properties']['forecast']\n",
    "    except:\n",
    "        print(f\"There was an error with {h}.\")"
   ]
  },
  {
   "cell_type": "code",
   "execution_count": null,
   "id": "8a1aa70d",
   "metadata": {},
   "outputs": [],
   "source": [
    "header=['hikeName','time','temperature','probabilityOfPrecipitation','windSpeed','detailedForecast']"
   ]
  },
  {
   "cell_type": "code",
   "execution_count": null,
   "id": "e5874173",
   "metadata": {},
   "outputs": [],
   "source": [
    "# Create new csv\n",
    "with open('weatherforHikes.csv', 'w', newline='') as f:\n",
    "    writer = csv.writer(f)\n",
    "    writer.writerow(header)\n",
    "    f.close()"
   ]
  },
  {
   "cell_type": "code",
   "execution_count": null,
   "id": "2dae9163",
   "metadata": {},
   "outputs": [],
   "source": [
    "# Write each day of forecast for each hike to csv\n",
    "for l in fc_links:\n",
    "    try: \n",
    "        r2=requests.get(fc_links[l])\n",
    "        r2.raise_for_status()\n",
    "        d2=json.loads(r2.text)\n",
    "        i=0\n",
    "        while i<9:\n",
    "            with open('weatherforHikes.csv', 'a', newline='\\n') as f:\n",
    "                writer = csv.writer(f)\n",
    "                writer.writerow([l,d2['properties']['periods'][i]['name'],d2['properties']['periods'][i]['temperature'],d2['properties']['periods'][i]['probabilityOfPrecipitation']['value'],d2['properties']['periods'][i]['windSpeed']+\" \"+d2['properties']['periods'][i]['windDirection'],d2['properties']['periods'][i]['detailedForecast']])\n",
    "                f.close()\n",
    "            i+=1\n",
    "    except:\n",
    "        print(f\"There was an error with {l}.\")\n",
    "    print(\"\\n\")"
   ]
  },
  {
   "cell_type": "code",
   "execution_count": null,
   "id": "f7301e74",
   "metadata": {},
   "outputs": [],
   "source": [
    "# Import csv into dataframe\n",
    "df=pd.read_csv('weatherforHikes.csv')"
   ]
  },
  {
   "cell_type": "code",
   "execution_count": null,
   "id": "6617040b",
   "metadata": {},
   "outputs": [],
   "source": [
    "df"
   ]
  },
  {
   "cell_type": "code",
   "execution_count": null,
   "id": "7dccff2f",
   "metadata": {},
   "outputs": [],
   "source": []
  }
 ],
 "metadata": {
  "kernelspec": {
   "display_name": "Python 3 (ipykernel)",
   "language": "python",
   "name": "python3"
  },
  "language_info": {
   "codemirror_mode": {
    "name": "ipython",
    "version": 3
   },
   "file_extension": ".py",
   "mimetype": "text/x-python",
   "name": "python",
   "nbconvert_exporter": "python",
   "pygments_lexer": "ipython3",
   "version": "3.10.9"
  }
 },
 "nbformat": 4,
 "nbformat_minor": 5
}
